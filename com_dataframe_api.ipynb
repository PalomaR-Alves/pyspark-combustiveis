{
 "cells": [
  {
   "cell_type": "code",
   "execution_count": 54,
   "id": "10be13fa-2dbd-4bf9-8347-de27da3f11e4",
   "metadata": {},
   "outputs": [],
   "source": [
    "from pyspark.sql import SparkSession\n",
    "from pyspark.sql import functions as F"
   ]
  },
  {
   "cell_type": "code",
   "execution_count": 55,
   "id": "615933db-364c-4c57-a93c-706128d22fa9",
   "metadata": {},
   "outputs": [],
   "source": [
    "# Aqui serão usados DataFrames pra mexer nos dados\n",
    "\n",
    "spark = (\n",
    "    SparkSession\n",
    "    .builder\n",
    "    .master(\"local[*]\") # usa nosso processador com todas as threads disponíveis\n",
    "    .appName('spark_dataframe_api')\n",
    "    .getOrCreate()\n",
    ")"
   ]
  },
  {
   "cell_type": "code",
   "execution_count": 56,
   "id": "fa2230ac-2138-41fd-a93e-07509adc8598",
   "metadata": {},
   "outputs": [],
   "source": [
    "# dados obtidos em:\n",
    "# https://dados.gov.br/dados/conjuntos-dados/serie-historica-de-precos-de-combustiveis-e-de-glp?source=post_page-----4185005771e5---------------------------------------\n",
    "# csv de outubro/2023\n",
    "\n",
    "df = (\n",
    "    spark\n",
    "    .read\n",
    "    .option('delimiter', ';') # delimitador será ;\n",
    "    .option('header', 'true') # a primeira linha do csv será o cabeçalho\n",
    "    .option('inferSchema', 'true') # infere o schema automaticamente (nomes das colunas e tipos de dados)\n",
    "    .option('encoding', 'ISO-8859-1') # às vezes é dado, às vezes precisamos fazer testes até descobrir\n",
    "    .csv('./dados/precos-gasolina-etanol-10.csv')\n",
    ")"
   ]
  },
  {
   "cell_type": "code",
   "execution_count": 57,
   "id": "7320a3d4-0c8a-41a1-be82-699fca0776f5",
   "metadata": {},
   "outputs": [
    {
     "name": "stdout",
     "output_type": "stream",
     "text": [
      "root\n",
      " |-- Regiao - Sigla: string (nullable = true)\n",
      " |-- Estado - Sigla: string (nullable = true)\n",
      " |-- Municipio: string (nullable = true)\n",
      " |-- Revenda: string (nullable = true)\n",
      " |-- CNPJ da Revenda: string (nullable = true)\n",
      " |-- Nome da Rua: string (nullable = true)\n",
      " |-- Numero Rua: string (nullable = true)\n",
      " |-- Complemento: string (nullable = true)\n",
      " |-- Bairro: string (nullable = true)\n",
      " |-- Cep: string (nullable = true)\n",
      " |-- Produto: string (nullable = true)\n",
      " |-- Data da Coleta: string (nullable = true)\n",
      " |-- Valor de Venda: string (nullable = true)\n",
      " |-- Valor de Compra: string (nullable = true)\n",
      " |-- Unidade de Medida: string (nullable = true)\n",
      " |-- Bandeira: string (nullable = true)\n",
      "\n"
     ]
    }
   ],
   "source": [
    "df.printSchema()"
   ]
  },
  {
   "cell_type": "code",
   "execution_count": 58,
   "id": "aff40e29-5802-4793-bd83-c4397e2b0715",
   "metadata": {},
   "outputs": [],
   "source": [
    "# dataframe apenas com colunas que importam\n",
    "df_precos = (\n",
    "    df.select(\n",
    "        'Estado - Sigla',\n",
    "        'Produto',\n",
    "        'Valor de Compra',\n",
    "        'Valor de Venda',\n",
    "        'Unidade de Medida'\n",
    "    )\n",
    ")"
   ]
  },
  {
   "cell_type": "code",
   "execution_count": 59,
   "id": "f8acb44d-9f2e-496c-87ef-c6d2a240dff0",
   "metadata": {},
   "outputs": [
    {
     "name": "stdout",
     "output_type": "stream",
     "text": [
      "+--------------+------------------+---------------+--------------+-----------------+\n",
      "|Estado - Sigla|           Produto|Valor de Compra|Valor de Venda|Unidade de Medida|\n",
      "+--------------+------------------+---------------+--------------+-----------------+\n",
      "|            AL|          GASOLINA|           NULL|          6,08|       R$ / litro|\n",
      "|            AL|GASOLINA ADITIVADA|           NULL|          6,08|       R$ / litro|\n",
      "|            AL|            ETANOL|           NULL|          4,78|       R$ / litro|\n",
      "|            AL|          GASOLINA|           NULL|          5,79|       R$ / litro|\n",
      "|            AL|            ETANOL|           NULL|          4,29|       R$ / litro|\n",
      "+--------------+------------------+---------------+--------------+-----------------+\n",
      "only showing top 5 rows\n",
      "\n"
     ]
    }
   ],
   "source": [
    "df_precos.show(5)"
   ]
  },
  {
   "cell_type": "code",
   "execution_count": 60,
   "id": "20c0d901-cdc9-45b7-af3f-b1096aac1273",
   "metadata": {},
   "outputs": [
    {
     "name": "stdout",
     "output_type": "stream",
     "text": [
      "+--------------+-------+---------------+--------------+-----------------+\n",
      "|Estado - Sigla|Produto|Valor de Compra|Valor de Venda|Unidade de Medida|\n",
      "+--------------+-------+---------------+--------------+-----------------+\n",
      "+--------------+-------+---------------+--------------+-----------------+\n",
      "\n"
     ]
    }
   ],
   "source": [
    "# pra verificar se há linhas não nulas na coluna Valor de Compra\n",
    "(\n",
    "    df_precos\n",
    "    .where(\n",
    "        F.col('Valor de Compra').isNotNull()\n",
    "    )\n",
    "    .show()\n",
    ")"
   ]
  },
  {
   "cell_type": "code",
   "execution_count": 61,
   "id": "deb7f59f-a21c-4411-85b0-3ec42781f816",
   "metadata": {},
   "outputs": [],
   "source": [
    "# como Valor de Compra não tem valores os dados de df_precos serão substituído\n",
    "# substituímos , por . em Valor de Venda para que cast pra float funcione corretamente\n",
    "\n",
    "df_precos = (\n",
    "    df\n",
    "    .select('Estado - Sigla', 'Produto', 'Valor de Venda', 'Unidade de Medida')\n",
    "    .withColumn(         # retorna um novo df com valores de 'Valor de Venda' modificados\n",
    "        'Valor de Venda',\n",
    "        F.regexp_replace(F.col('Valor de Venda'), ',', '.')\n",
    "        .cast('float')\n",
    "    )\n",
    ")"
   ]
  },
  {
   "cell_type": "code",
   "execution_count": 62,
   "id": "3e6b3c67-a392-49b7-905f-690df0534c4b",
   "metadata": {},
   "outputs": [
    {
     "name": "stdout",
     "output_type": "stream",
     "text": [
      "+--------------+------------------+--------------+-----------------+\n",
      "|Estado - Sigla|           Produto|Valor de Venda|Unidade de Medida|\n",
      "+--------------+------------------+--------------+-----------------+\n",
      "|            AL|          GASOLINA|          6.08|       R$ / litro|\n",
      "|            AL|GASOLINA ADITIVADA|          6.08|       R$ / litro|\n",
      "|            AL|            ETANOL|          4.78|       R$ / litro|\n",
      "|            AL|          GASOLINA|          5.79|       R$ / litro|\n",
      "|            AL|            ETANOL|          4.29|       R$ / litro|\n",
      "|            AL|          GASOLINA|          5.89|       R$ / litro|\n",
      "|            AL|GASOLINA ADITIVADA|          6.09|       R$ / litro|\n",
      "|            AL|            ETANOL|          4.49|       R$ / litro|\n",
      "|            AL|          GASOLINA|          5.89|       R$ / litro|\n",
      "|            AL|GASOLINA ADITIVADA|          6.09|       R$ / litro|\n",
      "|            AL|            ETANOL|          4.99|       R$ / litro|\n",
      "|            AL|          GASOLINA|          5.79|       R$ / litro|\n",
      "|            AL|GASOLINA ADITIVADA|          5.89|       R$ / litro|\n",
      "|            AL|            ETANOL|          4.59|       R$ / litro|\n",
      "|            AL|          GASOLINA|          6.19|       R$ / litro|\n",
      "|            AL|            ETANOL|          4.69|       R$ / litro|\n",
      "|            AL|          GASOLINA|          5.79|       R$ / litro|\n",
      "|            AL|GASOLINA ADITIVADA|          5.89|       R$ / litro|\n",
      "|            AL|            ETANOL|          4.19|       R$ / litro|\n",
      "|            AL|          GASOLINA|          5.79|       R$ / litro|\n",
      "+--------------+------------------+--------------+-----------------+\n",
      "only showing top 20 rows\n",
      "\n"
     ]
    }
   ],
   "source": [
    "df_precos.show()"
   ]
  },
  {
   "cell_type": "code",
   "execution_count": 63,
   "id": "b002aa36-79c6-43f1-a2ce-263d8e8fb7ad",
   "metadata": {},
   "outputs": [],
   "source": [
    "df_precos_analise = (\n",
    "    df_precos\n",
    "    .groupBy(\n",
    "        F.col('Estado - Sigla'),\n",
    "        F.col('Produto'),\n",
    "        F.col('Unidade de Medida'),\n",
    "    )\n",
    "    # com groupBy o spark define agrupamentos de linhas logicamente, mas para aplicar de fato \n",
    "    # funções de agregação (como min e max) é necessário usar agg. Ambas são transformações, e\n",
    "    # por conta do Lazy Evaluation, o spark só computa esses cálculos quando uma ação é chamada\n",
    "    # por exemplo um .show()\n",
    "    .agg(\n",
    "        F.min(F.col(\"Valor de Venda\")).alias('menor_valor'),\n",
    "        F.max(F.col(\"Valor de Venda\")).alias('maior_valor')\n",
    "    )\n",
    "    .withColumn(    # retorna um novo df com adição da nova coluna 'diferenca'\n",
    "        \"diferenca\",\n",
    "        F.col('maior_valor') - F.col('menor_valor')\n",
    "    )\n",
    "    .orderBy('diferenca', ascending=False)\n",
    ")"
   ]
  },
  {
   "cell_type": "code",
   "execution_count": 65,
   "id": "27529da1-059d-451a-a630-8bba25be37bf",
   "metadata": {},
   "outputs": [
    {
     "name": "stdout",
     "output_type": "stream",
     "text": [
      "+--------------+------------------+-----------------+-----------+-----------+---------+\n",
      "|Estado - Sigla|           Produto|Unidade de Medida|menor_valor|maior_valor|diferenca|\n",
      "+--------------+------------------+-----------------+-----------+-----------+---------+\n",
      "|            SP|GASOLINA ADITIVADA|       R$ / litro|       4.79|       8.69|3.8999996|\n",
      "|            SP|            ETANOL|       R$ / litro|       2.78|       6.19|     3.41|\n",
      "|            SP|          GASOLINA|       R$ / litro|       4.59|       7.59|      3.0|\n",
      "|            PA|            ETANOL|       R$ / litro|       3.85|        6.6|     2.75|\n",
      "|            RS|            ETANOL|       R$ / litro|       3.88|       6.29|2.4099998|\n",
      "|            BA|          GASOLINA|       R$ / litro|       4.69|       6.98|     2.29|\n",
      "|            SC|            ETANOL|       R$ / litro|       3.84|       5.89|     2.05|\n",
      "|            AL|            ETANOL|       R$ / litro|       3.79|        5.8|2.0100002|\n",
      "|            PE|            ETANOL|       R$ / litro|       3.59|       5.59|2.0000002|\n",
      "|            BA|GASOLINA ADITIVADA|       R$ / litro|       5.33|       7.29|     1.96|\n",
      "+--------------+------------------+-----------------+-----------+-----------+---------+\n",
      "only showing top 10 rows\n",
      "\n"
     ]
    }
   ],
   "source": [
    "df_precos_analise.show(10)"
   ]
  },
  {
   "cell_type": "code",
   "execution_count": null,
   "id": "91665c63-de5f-449c-8cf8-c7ddfb50104f",
   "metadata": {},
   "outputs": [],
   "source": []
  }
 ],
 "metadata": {
  "kernelspec": {
   "display_name": "Python 3 (ipykernel)",
   "language": "python",
   "name": "python3"
  },
  "language_info": {
   "codemirror_mode": {
    "name": "ipython",
    "version": 3
   },
   "file_extension": ".py",
   "mimetype": "text/x-python",
   "name": "python",
   "nbconvert_exporter": "python",
   "pygments_lexer": "ipython3",
   "version": "3.11.6"
  }
 },
 "nbformat": 4,
 "nbformat_minor": 5
}
