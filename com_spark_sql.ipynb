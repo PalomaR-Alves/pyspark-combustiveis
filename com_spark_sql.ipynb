{
 "cells": [
  {
   "cell_type": "code",
   "execution_count": 20,
   "id": "10be13fa-2dbd-4bf9-8347-de27da3f11e4",
   "metadata": {},
   "outputs": [],
   "source": [
    "from pyspark.sql import SparkSession"
   ]
  },
  {
   "cell_type": "code",
   "execution_count": 21,
   "id": "615933db-364c-4c57-a93c-706128d22fa9",
   "metadata": {},
   "outputs": [],
   "source": [
    "# Aqui a manipulação vai ser feita com SQL\n",
    "\n",
    "spark = (\n",
    "    SparkSession\n",
    "    .builder\n",
    "    .master(\"local[*]\") # usa nosso processador com todas as threads disponíveis\n",
    "    .appName('spark_sql')\n",
    "    .getOrCreate()\n",
    ")"
   ]
  },
  {
   "cell_type": "code",
   "execution_count": 22,
   "id": "fa2230ac-2138-41fd-a93e-07509adc8598",
   "metadata": {},
   "outputs": [],
   "source": [
    "# dados obtidos em:\n",
    "# https://dados.gov.br/dados/conjuntos-dados/serie-historica-de-precos-de-combustiveis-e-de-glp?source=post_page-----4185005771e5---------------------------------------\n",
    "# csv de outubro/2023\n",
    "\n",
    "df = (\n",
    "    spark\n",
    "    .read\n",
    "    .option('delimiter', ';') # delimitador será ;\n",
    "    .option('header', 'true') # a primeira linha do csv será o cabeçalho\n",
    "    .option('inferSchema', 'true') # infere o schema automaticamente (nomes das colunas e tipos de dados)\n",
    "    .option('encoding', 'ISO-8859-1') # às vezes é dado, às vezes precisamos fazer testes até descobrir\n",
    "    .csv('./dados/precos-gasolina-etanol-10.csv')\n",
    ")"
   ]
  },
  {
   "cell_type": "code",
   "execution_count": 23,
   "id": "7320a3d4-0c8a-41a1-be82-699fca0776f5",
   "metadata": {},
   "outputs": [
    {
     "name": "stdout",
     "output_type": "stream",
     "text": [
      "root\n",
      " |-- Regiao - Sigla: string (nullable = true)\n",
      " |-- Estado - Sigla: string (nullable = true)\n",
      " |-- Municipio: string (nullable = true)\n",
      " |-- Revenda: string (nullable = true)\n",
      " |-- CNPJ da Revenda: string (nullable = true)\n",
      " |-- Nome da Rua: string (nullable = true)\n",
      " |-- Numero Rua: string (nullable = true)\n",
      " |-- Complemento: string (nullable = true)\n",
      " |-- Bairro: string (nullable = true)\n",
      " |-- Cep: string (nullable = true)\n",
      " |-- Produto: string (nullable = true)\n",
      " |-- Data da Coleta: string (nullable = true)\n",
      " |-- Valor de Venda: string (nullable = true)\n",
      " |-- Valor de Compra: string (nullable = true)\n",
      " |-- Unidade de Medida: string (nullable = true)\n",
      " |-- Bandeira: string (nullable = true)\n",
      "\n"
     ]
    }
   ],
   "source": [
    "df.printSchema()"
   ]
  },
  {
   "cell_type": "code",
   "execution_count": 24,
   "id": "91665c63-de5f-449c-8cf8-c7ddfb50104f",
   "metadata": {},
   "outputs": [],
   "source": [
    "# pra usar spark SQL precisamos usar esse método abaixo, porque com ele criamos\n",
    "# uma 'view' temporária (é perdida ao encerrar a sessão atual do spark) como as de \n",
    "# bancos de dados, essa 'view' representa o dataframe como tabela e nela podemos usar SQL\n",
    "\n",
    "df.createOrReplaceTempView('combustiveis') # agora podemos fazer select em 'combustiveis'"
   ]
  },
  {
   "cell_type": "code",
   "execution_count": 25,
   "id": "5278edba-722f-4782-8f76-c826c8a9e507",
   "metadata": {},
   "outputs": [
    {
     "data": {
      "text/plain": [
       "DataFrame[Regiao - Sigla: string, Estado - Sigla: string, Municipio: string, Revenda: string, CNPJ da Revenda: string, Nome da Rua: string, Numero Rua: string, Complemento: string, Bairro: string, Cep: string, Produto: string, Data da Coleta: string, Valor de Venda: string, Valor de Compra: string, Unidade de Medida: string, Bandeira: string]"
      ]
     },
     "execution_count": 25,
     "metadata": {},
     "output_type": "execute_result"
    }
   ],
   "source": [
    "spark.sql(\"\"\"select * from combustiveis\"\"\") # mostra os nomes e tipos de dados das colunas"
   ]
  },
  {
   "cell_type": "code",
   "execution_count": 26,
   "id": "9ed83062-6fe7-47af-8747-2a3b13895c72",
   "metadata": {},
   "outputs": [
    {
     "name": "stdout",
     "output_type": "stream",
     "text": [
      "+--------------+--------------+---------+--------------------+-------------------+--------------------+----------+--------------------+--------------------+---------+------------------+--------------+--------------+---------------+-----------------+--------+\n",
      "|Regiao - Sigla|Estado - Sigla|Municipio|             Revenda|    CNPJ da Revenda|         Nome da Rua|Numero Rua|         Complemento|              Bairro|      Cep|           Produto|Data da Coleta|Valor de Venda|Valor de Compra|Unidade de Medida|Bandeira|\n",
      "+--------------+--------------+---------+--------------------+-------------------+--------------------+----------+--------------------+--------------------+---------+------------------+--------------+--------------+---------------+-----------------+--------+\n",
      "|            NE|            AL|ARAPIRACA|COMERCIAL DE COMB...| 02.817.655/0001-82|RODOVIA AL 220 - ...|       S/N|                NULL|            PLANALTO|57308-000|          GASOLINA|    02/10/2023|          6,08|           NULL|       R$ / litro|   VIBRA|\n",
      "|            NE|            AL|ARAPIRACA|COMERCIAL DE COMB...| 02.817.655/0001-82|RODOVIA AL 220 - ...|       S/N|                NULL|            PLANALTO|57308-000|GASOLINA ADITIVADA|    02/10/2023|          6,08|           NULL|       R$ / litro|   VIBRA|\n",
      "|            NE|            AL|ARAPIRACA|COMERCIAL DE COMB...| 02.817.655/0001-82|RODOVIA AL 220 - ...|       S/N|                NULL|            PLANALTO|57308-000|            ETANOL|    02/10/2023|          4,78|           NULL|       R$ / litro|   VIBRA|\n",
      "|            NE|            AL|ARAPIRACA|AUTO POSTO SAO FR...| 12.706.529/0001-04|   RUA SAO FRANCISCO|       274|                NULL|              CENTRO|57300-080|          GASOLINA|    02/10/2023|          5,79|           NULL|       R$ / litro|   VIBRA|\n",
      "|            NE|            AL|ARAPIRACA|AUTO POSTO SAO FR...| 12.706.529/0001-04|   RUA SAO FRANCISCO|       274|                NULL|              CENTRO|57300-080|            ETANOL|    02/10/2023|          4,29|           NULL|       R$ / litro|   VIBRA|\n",
      "|            NE|            AL|ARAPIRACA|IBN PINTO E SILVA...| 01.242.690/0001-58|      RODOVIA AL-110|       678|            KM    70|         CANAFISTULA|57302-802|          GASOLINA|    02/10/2023|          5,89|           NULL|       R$ / litro|  BRANCA|\n",
      "|            NE|            AL|ARAPIRACA|IBN PINTO E SILVA...| 01.242.690/0001-58|      RODOVIA AL-110|       678|            KM    70|         CANAFISTULA|57302-802|GASOLINA ADITIVADA|    02/10/2023|          6,09|           NULL|       R$ / litro|  BRANCA|\n",
      "|            NE|            AL|ARAPIRACA|IBN PINTO E SILVA...| 01.242.690/0001-58|      RODOVIA AL-110|       678|            KM    70|         CANAFISTULA|57302-802|            ETANOL|    02/10/2023|          4,49|           NULL|       R$ / litro|  BRANCA|\n",
      "|            NE|            AL|ARAPIRACA|IBN PINTO E SILVA...| 01.242.690/0002-39|AVENIDA EMIDIO DE...|        23|                NULL|    JARDIM ESPERANCA|57304-820|          GASOLINA|    02/10/2023|          5,89|           NULL|       R$ / litro|IPIRANGA|\n",
      "|            NE|            AL|ARAPIRACA|IBN PINTO E SILVA...| 01.242.690/0002-39|AVENIDA EMIDIO DE...|        23|                NULL|    JARDIM ESPERANCA|57304-820|GASOLINA ADITIVADA|    02/10/2023|          6,09|           NULL|       R$ / litro|IPIRANGA|\n",
      "|            NE|            AL|ARAPIRACA|IBN PINTO E SILVA...| 01.242.690/0002-39|AVENIDA EMIDIO DE...|        23|                NULL|    JARDIM ESPERANCA|57304-820|            ETANOL|    02/10/2023|          4,99|           NULL|       R$ / litro|IPIRANGA|\n",
      "|            NE|            AL|RIO LARGO|CDA EMPREENDIMENT...| 12.486.809/0004-05|RODOVIA BR 104 AL...|        SN|                NULL|        MATA DO ROLO|57100-000|          GASOLINA|    02/10/2023|          5,79|           NULL|       R$ / litro|   VIBRA|\n",
      "|            NE|            AL|RIO LARGO|CDA EMPREENDIMENT...| 12.486.809/0004-05|RODOVIA BR 104 AL...|        SN|                NULL|        MATA DO ROLO|57100-000|GASOLINA ADITIVADA|    02/10/2023|          5,89|           NULL|       R$ / litro|   VIBRA|\n",
      "|            NE|            AL|RIO LARGO|CDA EMPREENDIMENT...| 12.486.809/0004-05|RODOVIA BR 104 AL...|        SN|                NULL|        MATA DO ROLO|57100-000|            ETANOL|    02/10/2023|          4,59|           NULL|       R$ / litro|   VIBRA|\n",
      "|            NE|            AL|RIO LARGO|OLIVEIRA & FREITA...| 01.600.494/0001-08|LOTEAMENTO VILA RICA|       S/N|LOTE  12         ...|        MATA DO ROLO|57100-000|          GASOLINA|    02/10/2023|          6,19|           NULL|       R$ / litro|IPIRANGA|\n",
      "|            NE|            AL|RIO LARGO|OLIVEIRA & FREITA...| 01.600.494/0001-08|LOTEAMENTO VILA RICA|       S/N|LOTE  12         ...|        MATA DO ROLO|57100-000|            ETANOL|    02/10/2023|          4,69|           NULL|       R$ / litro|IPIRANGA|\n",
      "|            NE|            AL|RIO LARGO|AUTO POSTO FORENE...| 05.459.764/0001-63|LOTEAMENTO SAO CA...|        SN|LOTE  05 E 06    ...|PREFEITO ANTONIO ...|57100-000|          GASOLINA|    02/10/2023|          5,79|           NULL|       R$ / litro|   VIBRA|\n",
      "|            NE|            AL|RIO LARGO|AUTO POSTO FORENE...| 05.459.764/0001-63|LOTEAMENTO SAO CA...|        SN|LOTE  05 E 06    ...|PREFEITO ANTONIO ...|57100-000|GASOLINA ADITIVADA|    02/10/2023|          5,89|           NULL|       R$ / litro|   VIBRA|\n",
      "|            NE|            AL|RIO LARGO|AUTO POSTO FORENE...| 05.459.764/0001-63|LOTEAMENTO SAO CA...|        SN|LOTE  05 E 06    ...|PREFEITO ANTONIO ...|57100-000|            ETANOL|    02/10/2023|          4,19|           NULL|       R$ / litro|   VIBRA|\n",
      "|            NE|            AL|RIO LARGO|AUTO POSTO PIONEI...| 05.101.388/0001-30|RODOVIA BR 101 NO...|       S/N|          ZONA RURAL|          ZONA RURAL|57100-000|          GASOLINA|    02/10/2023|          5,79|           NULL|       R$ / litro|   VIBRA|\n",
      "+--------------+--------------+---------+--------------------+-------------------+--------------------+----------+--------------------+--------------------+---------+------------------+--------------+--------------+---------------+-----------------+--------+\n",
      "only showing top 20 rows\n",
      "\n"
     ]
    }
   ],
   "source": [
    "spark.sql(\"\"\"select * from combustiveis\"\"\").show() # exibe a tabela"
   ]
  },
  {
   "cell_type": "code",
   "execution_count": 27,
   "id": "555c50eb-2458-4d4d-9038-a9828f4271ff",
   "metadata": {},
   "outputs": [
    {
     "name": "stdout",
     "output_type": "stream",
     "text": [
      "+--------------+------------------+---------------+--------------+-----------------+\n",
      "|Estado - Sigla|           Produto|Valor de Compra|Valor de Venda|Unidade de Medida|\n",
      "+--------------+------------------+---------------+--------------+-----------------+\n",
      "|            AL|          GASOLINA|           NULL|          6,08|       R$ / litro|\n",
      "|            AL|GASOLINA ADITIVADA|           NULL|          6,08|       R$ / litro|\n",
      "|            AL|            ETANOL|           NULL|          4,78|       R$ / litro|\n",
      "|            AL|          GASOLINA|           NULL|          5,79|       R$ / litro|\n",
      "|            AL|            ETANOL|           NULL|          4,29|       R$ / litro|\n",
      "|            AL|          GASOLINA|           NULL|          5,89|       R$ / litro|\n",
      "|            AL|GASOLINA ADITIVADA|           NULL|          6,09|       R$ / litro|\n",
      "|            AL|            ETANOL|           NULL|          4,49|       R$ / litro|\n",
      "|            AL|          GASOLINA|           NULL|          5,89|       R$ / litro|\n",
      "|            AL|GASOLINA ADITIVADA|           NULL|          6,09|       R$ / litro|\n",
      "|            AL|            ETANOL|           NULL|          4,99|       R$ / litro|\n",
      "|            AL|          GASOLINA|           NULL|          5,79|       R$ / litro|\n",
      "|            AL|GASOLINA ADITIVADA|           NULL|          5,89|       R$ / litro|\n",
      "|            AL|            ETANOL|           NULL|          4,59|       R$ / litro|\n",
      "|            AL|          GASOLINA|           NULL|          6,19|       R$ / litro|\n",
      "|            AL|            ETANOL|           NULL|          4,69|       R$ / litro|\n",
      "|            AL|          GASOLINA|           NULL|          5,79|       R$ / litro|\n",
      "|            AL|GASOLINA ADITIVADA|           NULL|          5,89|       R$ / litro|\n",
      "|            AL|            ETANOL|           NULL|          4,19|       R$ / litro|\n",
      "|            AL|          GASOLINA|           NULL|          5,79|       R$ / litro|\n",
      "+--------------+------------------+---------------+--------------+-----------------+\n",
      "only showing top 20 rows\n",
      "\n"
     ]
    }
   ],
   "source": [
    "spark.sql(\"\"\"\n",
    "    select `Estado - Sigla`, `Produto`, `Valor de Compra`,`Valor de Venda`, `Unidade de Medida` from combustiveis\n",
    "\"\"\").show()\n",
    "\n",
    "# usamos ` ao invés de ' nos nomes das colunas pois ' faz com que os valores \n",
    "# das colunas sejam o próprio nome delas"
   ]
  },
  {
   "cell_type": "code",
   "execution_count": 28,
   "id": "c0fdb53c-cb4f-4b44-84ec-46ac2e87eb79",
   "metadata": {},
   "outputs": [
    {
     "name": "stdout",
     "output_type": "stream",
     "text": [
      "+--------------+--------------+---------+-------+---------------+-----------+----------+-----------+------+---+-------+--------------+--------------+---------------+-----------------+--------+\n",
      "|Regiao - Sigla|Estado - Sigla|Municipio|Revenda|CNPJ da Revenda|Nome da Rua|Numero Rua|Complemento|Bairro|Cep|Produto|Data da Coleta|Valor de Venda|Valor de Compra|Unidade de Medida|Bandeira|\n",
      "+--------------+--------------+---------+-------+---------------+-----------+----------+-----------+------+---+-------+--------------+--------------+---------------+-----------------+--------+\n",
      "+--------------+--------------+---------+-------+---------------+-----------+----------+-----------+------+---+-------+--------------+--------------+---------------+-----------------+--------+\n",
      "\n"
     ]
    }
   ],
   "source": [
    "spark.sql(\"\"\"\n",
    "    select * from combustiveis\n",
    "    where `Valor de Compra` is not null\n",
    "\"\"\").show()\n",
    "\n",
    "# coluna Valor de Compra é 100% nula"
   ]
  },
  {
   "cell_type": "code",
   "execution_count": 29,
   "id": "bd8e1858-b4d1-43af-9682-b3f9e9a4c205",
   "metadata": {},
   "outputs": [],
   "source": [
    "# substituindo , por . para converter 'Valor de Venda' pra float\n",
    "view_precos = spark.sql(\"\"\"\n",
    "    select `Estado - Sigla`, `Produto`, regexp_replace(`Valor de Venda`, \",\", \".\") as `Valor de Venda`, `Unidade de Medida`\n",
    "    from combustiveis\n",
    "\"\"\")"
   ]
  },
  {
   "cell_type": "code",
   "execution_count": 31,
   "id": "32ffb8c8-5035-4abb-af9e-d11018214c72",
   "metadata": {},
   "outputs": [
    {
     "name": "stdout",
     "output_type": "stream",
     "text": [
      "+--------------+------------------+--------------+-----------------+\n",
      "|Estado - Sigla|           Produto|Valor de Venda|Unidade de Medida|\n",
      "+--------------+------------------+--------------+-----------------+\n",
      "|            AL|          GASOLINA|          6.08|       R$ / litro|\n",
      "|            AL|GASOLINA ADITIVADA|          6.08|       R$ / litro|\n",
      "|            AL|            ETANOL|          4.78|       R$ / litro|\n",
      "|            AL|          GASOLINA|          5.79|       R$ / litro|\n",
      "|            AL|            ETANOL|          4.29|       R$ / litro|\n",
      "+--------------+------------------+--------------+-----------------+\n",
      "only showing top 5 rows\n",
      "\n"
     ]
    }
   ],
   "source": [
    "# a consulta feita com spark.sql retornou um DataFrame, para podermos continuar usando SQL\n",
    "# é preciso criar a view também pra esse dataframe\n",
    "view_precos.createOrReplaceTempView('view_precos')\n",
    "view_precos.show(5)"
   ]
  },
  {
   "cell_type": "code",
   "execution_count": 41,
   "id": "2532a845-fb4f-4c7c-9df9-0abc7d37e261",
   "metadata": {},
   "outputs": [],
   "source": [
    "df_diferenca_precos = spark.sql(\"\"\"\n",
    "    select\n",
    "        `Estado - Sigla`, `Produto`, `Unidade de Medida`,\n",
    "        MIN(`Valor de Venda`) as menor_valor,\n",
    "        MAX(`Valor de Venda`) as maior_valor,\n",
    "        MAX(`Valor de Venda`) - MIN(`Valor de Venda`) as diferenca\n",
    "    from view_precos\n",
    "    group by all\n",
    "    order by diferenca desc\n",
    "\"\"\")"
   ]
  },
  {
   "cell_type": "code",
   "execution_count": 42,
   "id": "67d661e2-e12e-4255-af5c-2047e0e037ee",
   "metadata": {},
   "outputs": [
    {
     "name": "stdout",
     "output_type": "stream",
     "text": [
      "+--------------+------------------+-----------------+-----------+-----------+------------------+\n",
      "|Estado - Sigla|           Produto|Unidade de Medida|menor_valor|maior_valor|         diferenca|\n",
      "+--------------+------------------+-----------------+-----------+-----------+------------------+\n",
      "|            SP|GASOLINA ADITIVADA|       R$ / litro|       4.79|       8.69|3.8999999999999995|\n",
      "|            SP|            ETANOL|       R$ / litro|       2.78|       6.19|3.4100000000000006|\n",
      "|            SP|          GASOLINA|       R$ / litro|       4.59|       7.59|               3.0|\n",
      "|            PA|            ETANOL|       R$ / litro|       3.85|        6.6|2.7499999999999996|\n",
      "|            RS|            ETANOL|       R$ / litro|       3.88|       6.29|              2.41|\n",
      "|            BA|          GASOLINA|       R$ / litro|       4.69|       6.98|              2.29|\n",
      "|            SC|            ETANOL|       R$ / litro|       3.84|       5.89|              2.05|\n",
      "|            AL|            ETANOL|       R$ / litro|       3.79|        5.8|              2.01|\n",
      "|            PE|            ETANOL|       R$ / litro|       3.59|       5.59|               2.0|\n",
      "|            BA|GASOLINA ADITIVADA|       R$ / litro|       5.33|       7.29|              1.96|\n",
      "+--------------+------------------+-----------------+-----------+-----------+------------------+\n",
      "only showing top 10 rows\n",
      "\n"
     ]
    }
   ],
   "source": [
    "df_diferenca_precos.show(10)"
   ]
  },
  {
   "cell_type": "code",
   "execution_count": null,
   "id": "0b853512-4a9c-47e7-a2c3-35fa8c0a5a83",
   "metadata": {},
   "outputs": [],
   "source": []
  }
 ],
 "metadata": {
  "kernelspec": {
   "display_name": "Python 3 (ipykernel)",
   "language": "python",
   "name": "python3"
  },
  "language_info": {
   "codemirror_mode": {
    "name": "ipython",
    "version": 3
   },
   "file_extension": ".py",
   "mimetype": "text/x-python",
   "name": "python",
   "nbconvert_exporter": "python",
   "pygments_lexer": "ipython3",
   "version": "3.11.6"
  }
 },
 "nbformat": 4,
 "nbformat_minor": 5
}
